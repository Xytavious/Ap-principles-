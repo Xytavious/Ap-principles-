{
 "cells": [
  {
   "cell_type": "markdown",
   "metadata": {},
   "source": []
  },
  {
   "cell_type": "markdown",
   "metadata": {},
   "source": [
    "# Jobs In Data Science:"
   ]
  },
  {
   "cell_type": "code",
   "execution_count": null,
   "metadata": {},
   "outputs": [],
   "source": [
    "%pip install pandas seaborn matplotlib -q\n",
    "import pandas as pd\n",
    "import seaborn as sns\n",
    "import matplotlib.pyplot as plt"
   ]
  },
  {
   "cell_type": "code",
   "execution_count": null,
   "metadata": {},
   "outputs": [],
   "source": [
    "# Read dataset into dataframe\n",
    "df = pd.read_csv('../data/jobs_in_data_science.csv')\n",
    "df.columns = df.columns.str.strip()  # Get rid of trailing spaces in column names\n",
    "df"
   ]
  },
  {
   "cell_type": "code",
   "execution_count": null,
   "metadata": {},
   "outputs": [],
   "source": [
    "df.info()\n",
    "\n",
    "\n",
    "df.describe()"
   ]
  },
  {
   "cell_type": "markdown",
   "metadata": {},
   "source": [
    "## Task one:"
   ]
  },
  {
   "cell_type": "code",
   "execution_count": null,
   "metadata": {},
   "outputs": [],
   "source": [
    "avg_salary_by_year = df.groupby('work_year')['salary_in_usd'].mean()\n",
    "plt.figure(figsize=(10,6))  # 10in x 6in\n",
    "avg_salary_by_year.plot(kind='line', marker='o')\n",
    "plt.title('Average Salary in Data Science Over Time')\n",
    "plt.xlabel('Year')\n",
    "plt.ylabel('Average Salary (USD)')\n",
    "plt.grid(True)\n",
    "plt.show()"
   ]
  },
  {
   "cell_type": "markdown",
   "metadata": {},
   "source": [
    "# Task 2 slary Distribution by job tittle "
   ]
  },
  {
   "cell_type": "code",
   "execution_count": null,
   "metadata": {},
   "outputs": [],
   "source": [
    "plt.figure(figsize=(12, 8))\n",
    "df.head(500).boxplot(column='salary_in_usd', by='job_title')\n",
    "plt.suptitle('')\n",
    "plt.title('Salary Distribution by Job Title')\n",
    "plt.xlabel('Job Title')\n",
    "plt.ylabel('Salary (USD)')\n",
    "plt.xticks(rotation=90)\n",
    "plt.show()"
   ]
  },
  {
   "cell_type": "markdown",
   "metadata": {},
   "source": [
    "there is a wide variation of salaries across diffrent job tittles, with mostly AI-related roles having drastically higher median slaaries and wider ranges."
   ]
  },
  {
   "cell_type": "markdown",
   "metadata": {},
   "source": [
    "# Task 3: Experience level vs. Salary"
   ]
  },
  {
   "cell_type": "code",
   "execution_count": null,
   "metadata": {},
   "outputs": [],
   "source": [
    "salary_by_exp = df.groupby('experience_level')['salary_in_usd'].mean()\n",
    "# salary_by_exp.plot(kind='bar')\n",
    "ax = sns.barplot(x=salary_by_exp.index, y=salary_by_exp.values, color='slateblue')\n",
    "ax.bar_label(ax.containers[0], fontsize=10)\n",
    "plt.title('Average Salary by Experience Level')\n",
    "plt.xlabel('Experience Level')\n",
    "plt.ylabel('Average Salary (USD)')\n",
    "plt.show()"
   ]
  },
  {
   "cell_type": "markdown",
   "metadata": {},
   "source": [
    "## Task 4 Geographic Salary Distribution"
   ]
  },
  {
   "cell_type": "code",
   "execution_count": null,
   "metadata": {},
   "outputs": [],
   "source": [
    "plt.figure(figsize=(10,6))\n",
    "sns.histplot(y='employee_residence', x='salary_in_usd', data=df.head(2500))\n",
    "plt.title('Geographic Salary Distribution')\n",
    "plt.xlabel('Salary (USD)')\n",
    "plt.ylabel('Frequency')\n",
    "plt.show()"
   ]
  },
  {
   "cell_type": "markdown",
   "metadata": {},
   "source": [
    "## Task 5 Company Size and Salary Structure "
   ]
  },
  {
   "cell_type": "code",
   "execution_count": null,
   "metadata": {},
   "outputs": [],
   "source": [
    "plt.figure(figsize=(10, 6))\n",
    "sns.boxplot(x='company_size', y='salary_in_usd', data=df)  # sns.violinplot(...)\n",
    "plt.title('Salary Distribution by Company Size')\n",
    "plt.xlabel('Company Size')\n",
    "plt.ylabel('Salary (USD)')\n",
    "plt.show()"
   ]
  },
  {
   "cell_type": "markdown",
   "metadata": {},
   "source": [
    "# Task 6 Impact of Work Setting on Salary"
   ]
  },
  {
   "cell_type": "code",
   "execution_count": null,
   "metadata": {},
   "outputs": [],
   "source": [
    "plt.figure(figsize=(10,6))\n",
    "sns.scatterplot(x='work_setting', y='salary_in_usd', data=df)  # Or sns.boxplot(...)\n",
    "plt.title('Salary vs. Work Setting')\n",
    "plt.xlabel('Work Setting')\n",
    "plt.ylabel('Salary (USD)')\n",
    "plt.show()"
   ]
  },
  {
   "cell_type": "markdown",
   "metadata": {},
   "source": [
    "# week 21- SQL"
   ]
  },
  {
   "cell_type": "code",
   "execution_count": null,
   "metadata": {},
   "outputs": [],
   "source": [
    "import sqlite3\n",
    "import pandas as pd\n",
    "\n",
    "conn = sqlite3.connect(\"prog54a.db\")\n",
    "cur = conn.cursor()\n",
    "\n",
    "cur.execute(\"\"\"\n",
    "CREATE TABLE cars(\n",
    "    Vehicle TEXT,\n",
    "    Miles INT,\n",
    "    Gallons INT,\n",
    "    MPG FLOAT)\n",
    "\"\"\")\n",
    "\n",
    "data= [\n",
    "    ('1970 VW Bug', 286,9),\n",
    "    ('1979 Firebird',412,40),\n",
    "    ('1980 Subaru',361,18),\n",
    "    ('1975 Cutlass',161,11),\n",
    "]\n",
    "cur.executemany('INSERT INTO cars (Vehicale,Miles,Gallons,MPG) VALUES(?,?,?,0)', data)\n",
    "conn.commit()\n",
    "\n",
    "df = pd.read_sql_query('SELECT * FROM cars', conn)\n",
    "df\n",
    "\n",
    "for index,row in df.iterrows():\n",
    "    mpg = round(row['Miles']/row['Gallons'],1)\n",
    "    cur.execute('UPDATE cars SET MPG = ? WHERE Vehicle = ?', (mpg, row['Vehicle']))\n",
    "cur.execute('DELETE FORM cars WHERE MPG <12 AND Gallons =40')\n",
    "conn.commit()\n",
    "\n",
    "update_df = pd.read_sql_query('SELCT * FROM cars,')"
   ]
  }
 ],
 "metadata": {
  "language_info": {
   "name": "python"
  }
 },
 "nbformat": 4,
 "nbformat_minor": 2
}
